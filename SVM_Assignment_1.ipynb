{
 "cells": [
  {
   "cell_type": "code",
   "execution_count": 1,
   "metadata": {
    "colab": {},
    "colab_type": "code",
    "id": "xxO9tyeJW4uh"
   },
   "outputs": [],
   "source": [
    "from sklearn import datasets"
   ]
  },
  {
   "cell_type": "code",
   "execution_count": 2,
   "metadata": {
    "colab": {},
    "colab_type": "code",
    "id": "mjcU_PeeW8eU"
   },
   "outputs": [],
   "source": [
    "X, y =  datasets.make_blobs(n_samples=50, n_features=2, centers=2, cluster_std=1.05, random_state=40)"
   ]
  },
  {
   "cell_type": "code",
   "execution_count": 3,
   "metadata": {
    "colab": {
     "base_uri": "https://localhost:8080/",
     "height": 72
    },
    "colab_type": "code",
    "id": "YFUgOrbIW-eF",
    "outputId": "c871f239-5b7c-4170-86b9-2c63aed8a01b"
   },
   "outputs": [],
   "source": [
    "import numpy as np\n",
    "import matplotlib.pyplot as plt\n",
    "import seaborn as sns\n",
    "import pandas as pd\n",
    "import numpy as np"
   ]
  },
  {
   "cell_type": "code",
   "execution_count": 4,
   "metadata": {
    "colab": {},
    "colab_type": "code",
    "id": "WyUdIxRDX-pH"
   },
   "outputs": [],
   "source": [
    "x=np.linspace(-3,5,100)"
   ]
  },
  {
   "cell_type": "code",
   "execution_count": 5,
   "metadata": {
    "colab": {},
    "colab_type": "code",
    "id": "J9MZCZj-YDgH"
   },
   "outputs": [],
   "source": [
    "y1=-5*x+1"
   ]
  },
  {
   "cell_type": "code",
   "execution_count": 6,
   "metadata": {
    "colab": {},
    "colab_type": "code",
    "id": "nGM1xxeMYy9n"
   },
   "outputs": [],
   "source": [
    "y2=-4*x+1"
   ]
  },
  {
   "cell_type": "code",
   "execution_count": 7,
   "metadata": {
    "colab": {
     "base_uri": "https://localhost:8080/",
     "height": 283
    },
    "colab_type": "code",
    "id": "nZogsr9CXCra",
    "outputId": "aaf6ccaf-42e5-4aac-8241-3403e25cdd8b"
   },
   "outputs": [
    {
     "data": {
      "text/plain": [
       "<matplotlib.axes._subplots.AxesSubplot at 0x286073d7708>"
      ]
     },
     "execution_count": 7,
     "metadata": {},
     "output_type": "execute_result"
    },
    {
     "data": {
      "image/png": "[encoded data removed]",
      "text/plain": [
       "<Figure size 432x288 with 1 Axes>"
      ]
     },
     "metadata": {
      "needs_background": "light"
     },
     "output_type": "display_data"
    }
   ],
   "source": [
    "plt.plot(x,y1) # blue\n",
    "plt.plot(x,y2) # orange\n",
    "sns.scatterplot(X.T[0],X.T[1],hue=y)"
   ]
  },
  {
   "cell_type": "markdown",
   "metadata": {
    "colab_type": "text",
    "id": "U2pT8YqeZGPf"
   },
   "source": [
    "Equation of the orange line:\n",
    "\n",
    "y=-4x+1\n",
    "\n",
    "Equation of the blue line:\n",
    "\n",
    "y=-5x+1\n",
    "\n",
    "You have to find out which line will act as a better classifier according to the SVM alsorithm and why?"
   ]
  },
  {
   "cell_type": "code",
   "execution_count": 8,
   "metadata": {
    "colab": {},
    "colab_type": "code",
    "id": "u3KywixYZcYl",
    "scrolled": true
   },
   "outputs": [
    {
     "data": {
      "text/html": [
       "<div>\n",
       "<style scoped>\n",
       "    .dataframe tbody tr th:only-of-type {\n",
       "        vertical-align: middle;\n",
       "    }\n",
       "\n",
       "    .dataframe tbody tr th {\n",
       "        vertical-align: top;\n",
       "    }\n",
       "\n",
       "    .dataframe thead th {\n",
       "        text-align: right;\n",
       "    }\n",
       "</style>\n",
       "<table border=\"1\" class=\"dataframe\">\n",
       "  <thead>\n",
       "    <tr style=\"text-align: right;\">\n",
       "      <th></th>\n",
       "      <th>x1</th>\n",
       "      <th>x2</th>\n",
       "      <th>y</th>\n",
       "    </tr>\n",
       "  </thead>\n",
       "  <tbody>\n",
       "    <tr>\n",
       "      <td>0</td>\n",
       "      <td>7.127313</td>\n",
       "      <td>-4.439442</td>\n",
       "      <td>1</td>\n",
       "    </tr>\n",
       "    <tr>\n",
       "      <td>1</td>\n",
       "      <td>6.688739</td>\n",
       "      <td>-2.448401</td>\n",
       "      <td>1</td>\n",
       "    </tr>\n",
       "    <tr>\n",
       "      <td>2</td>\n",
       "      <td>-1.100479</td>\n",
       "      <td>-7.784368</td>\n",
       "      <td>-1</td>\n",
       "    </tr>\n",
       "  </tbody>\n",
       "</table>\n",
       "</div>"
      ],
      "text/plain": [
       "         x1        x2  y\n",
       "0  7.127313 -4.439442  1\n",
       "1  6.688739 -2.448401  1\n",
       "2 -1.100479 -7.784368 -1"
      ]
     },
     "execution_count": 8,
     "metadata": {},
     "output_type": "execute_result"
    }
   ],
   "source": [
    "# Creating dataframe of points\n",
    "data = pd.DataFrame(data=X,columns=['x1','x2'])\n",
    "data['y'] = [-1 if i==0 else i for i in y]\n",
    "data.head(3)"
   ]
  },
  {
   "cell_type": "code",
   "execution_count": null,
   "metadata": {},
   "outputs": [],
   "source": []
  },
  {
   "cell_type": "code",
   "execution_count": null,
   "metadata": {},
   "outputs": [],
   "source": []
  },
  {
   "cell_type": "code",
   "execution_count": 9,
   "metadata": {},
   "outputs": [],
   "source": [
    "# Function to find the minimun distance between support vectors\n",
    "\n",
    "def find_dist(data,w1,w2,b):\n",
    "    \n",
    "    point_pos = list(data[data['y']==1][['x1','x2']].values)\n",
    "    point_neg = list(data[data['y']==-1][['x1','x2']].values)\n",
    "\n",
    "    dist_pos=[]\n",
    "    dist_neg=[]\n",
    "    \n",
    "    # Support vector for positive points (y=1)\n",
    "    for i in range(len(point_pos)):\n",
    "        dist = abs(((w1*point_pos[i][0]) + (w2*point_pos[i][1]) + b)) / np.sqrt((w1)**2 + (w2)**2)\n",
    "        dist_pos.append(dist)\n",
    "        \n",
    "    # Support vector for negative points (y=-1)\n",
    "    for i in range(len(point_neg)):\n",
    "        dist = abs(((w1*point_neg[i][0]) + (w2*point_neg[i][1]) + b)) / np.sqrt((w1)**2 + (w2)**2)\n",
    "        dist_neg.append(dist)\n",
    "        \n",
    "    return min(dist_pos + dist_neg)"
   ]
  },
  {
   "cell_type": "code",
   "execution_count": null,
   "metadata": {},
   "outputs": [],
   "source": []
  },
  {
   "cell_type": "code",
   "execution_count": 10,
   "metadata": {
    "scrolled": true
   },
   "outputs": [
    {
     "data": {
      "text/plain": [
       "1.2894933062219867"
      ]
     },
     "execution_count": 10,
     "metadata": {},
     "output_type": "execute_result"
    }
   ],
   "source": [
    "# line => y = -5x+1\n",
    "# => 5x +y -1 = 0\n",
    "# w1=5, w2=1, b=-1\n",
    "find_dist(data,w1=5,w2=1,b=-1)"
   ]
  },
  {
   "cell_type": "code",
   "execution_count": 11,
   "metadata": {
    "scrolled": true
   },
   "outputs": [
    {
     "data": {
      "text/plain": [
       "1.3854137365383017"
      ]
     },
     "execution_count": 11,
     "metadata": {},
     "output_type": "execute_result"
    }
   ],
   "source": [
    "# line => y = -4x+1\n",
    "# => 4x +y -1 = 0\n",
    "# w1=4, w2=1, b=-1\n",
    "find_dist(data,w1=4,w2=1,b=-1)"
   ]
  },
  {
   "cell_type": "code",
   "execution_count": 12,
   "metadata": {},
   "outputs": [
    {
     "name": "stdout",
     "output_type": "stream",
     "text": [
      "The 'Orange' line is a better classifier\n"
     ]
    }
   ],
   "source": [
    "if find_dist(data,w1=5,w2=1,b=-1) > find_dist(data,w1=4,w2=1,b=-1):\n",
    "    print(\"The 'Blue' line is the better classifier\")\n",
    "else:\n",
    "    print(\"The 'Orange' line is the better classifier\")"
   ]
  },
  {
   "cell_type": "code",
   "execution_count": null,
   "metadata": {},
   "outputs": [],
   "source": []
  }
 ],
 "metadata": {
  "colab": {
   "name": "SVM-Assignment-1.ipynb",
   "provenance": []
  },
  "kernelspec": {
   "display_name": "Python 3",
   "language": "python",
   "name": "python3"
  },
  "language_info": {
   "codemirror_mode": {
    "name": "ipython",
    "version": 3
   },
   "file_extension": ".py",
   "mimetype": "text/x-python",
   "name": "python",
   "nbconvert_exporter": "python",
   "pygments_lexer": "ipython3",
   "version": "3.7.4"
  }
 },
 "nbformat": 4,
 "nbformat_minor": 1
}
